{
 "cells": [
  {
   "cell_type": "code",
   "execution_count": 1,
   "metadata": {},
   "outputs": [],
   "source": [
    "from dotenv import load_dotenv, find_dotenv; load_dotenv(find_dotenv())\n",
    "import os, notion_client, requests, datetime, pytz\n",
    "from bs4 import BeautifulSoup\n",
    "from typing import Optional\n",
    "from operator import itemgetter\n",
    "from langchain_core.pydantic_v1 import BaseModel, Field\n",
    "from langchain_community.document_loaders.html import UnstructuredHTMLLoader\n",
    "from langchain_core.messages import SystemMessage\n",
    "from langchain_core.prompts import ChatPromptTemplate, HumanMessagePromptTemplate\n",
    "from langchain_openai import ChatOpenAI\n",
    "from langchain.output_parsers.openai_functions import JsonOutputFunctionsParser\n",
    "from langchain_core.runnables import RunnableLambda, RunnablePassthrough\n",
    "from langchain_core.utils.function_calling import convert_to_openai_function, convert_to_openai_tool\n",
    "\n",
    "notion = notion_client.Client(auth=os.environ['NOTION_TOKEN'])\n",
    "CLIP = os.environ['CLIP_DATABASE_ID']\n",
    "INPUT = os.environ['INPUT_DATABASE_ID']"
   ]
  },
  {
   "cell_type": "code",
   "execution_count": 2,
   "metadata": {},
   "outputs": [],
   "source": [
    "input_database = notion.databases.retrieve(database_id=INPUT)\n",
    "tags = [o['name'] for o in input_database['properties']['Tags']['multi_select']['options']]\n",
    "types = [o['name'] for o in input_database['properties']['Type']['multi_select']['options']]"
   ]
  },
  {
   "cell_type": "code",
   "execution_count": 3,
   "metadata": {},
   "outputs": [
    {
     "data": {
      "text/plain": [
       "{'name': 'PageProperties',\n",
       " 'description': 'Extract web page data',\n",
       " 'parameters': {'type': 'object',\n",
       "  'properties': {'title': {'description': 'page title (long ver.)',\n",
       "    'type': 'string'},\n",
       "   'short_title': {'description': 'page title (short ver.)', 'type': 'string'},\n",
       "   'year': {'description': 'Posted year of the page', 'type': 'integer'},\n",
       "   'month': {'description': 'Posted month of the page', 'type': 'integer'},\n",
       "   'types': {'description': 'page types in list.',\n",
       "    'enum': ['Tweet',\n",
       "     'Announce',\n",
       "     'Slides',\n",
       "     'Medium',\n",
       "     'Web',\n",
       "     'Qiita',\n",
       "     'Zenn',\n",
       "     'Notion',\n",
       "     'note',\n",
       "     'Book',\n",
       "     'Paper',\n",
       "     'GitHub',\n",
       "     'HuggingFace',\n",
       "     'Demo',\n",
       "     'KAKEN',\n",
       "     'Course',\n",
       "     'Tutorial',\n",
       "     'Resources',\n",
       "     'GPTs',\n",
       "     'Thought',\n",
       "     'Youtube',\n",
       "     'Webinar',\n",
       "     'Kaggle',\n",
       "     'Service',\n",
       "     'MemberOnly',\n",
       "     'Blog'],\n",
       "    'type': 'array',\n",
       "    'items': {'type': 'string'}},\n",
       "   'tags': {'description': 'tags in list.',\n",
       "    'enum': ['LLM',\n",
       "     'LLMEval',\n",
       "     'LLMOps',\n",
       "     'Agent',\n",
       "     'ChatGPT',\n",
       "     'OpenAI',\n",
       "     'VoiceInteraction',\n",
       "     'Prompt',\n",
       "     'GA',\n",
       "     'Guardrails',\n",
       "     'LangChain',\n",
       "     'SoftDev',\n",
       "     'OpenLLM',\n",
       "     'AWS',\n",
       "     'Life',\n",
       "     'CustomInstructions',\n",
       "     'Survey',\n",
       "     'Azure',\n",
       "     'Embedding',\n",
       "     'Visualization',\n",
       "     'Conversation',\n",
       "     'Robotics',\n",
       "     'Container',\n",
       "     'FastAPI',\n",
       "     'Reseach',\n",
       "     'Python',\n",
       "     'Database',\n",
       "     'RAG',\n",
       "     'OpenSearch',\n",
       "     'SQL',\n",
       "     'GPT4V',\n",
       "     'StableDiffusion',\n",
       "     'Logging',\n",
       "     'DX',\n",
       "     'ECS',\n",
       "     'Geo',\n",
       "     'Infrastructure',\n",
       "     'Kaggle',\n",
       "     'LangSmith',\n",
       "     'PromptHub',\n",
       "     'PromptRefine',\n",
       "     'Notion',\n",
       "     'LLMTuning',\n",
       "     'Rec',\n",
       "     'PrivateDev',\n",
       "     'English',\n",
       "     'SelfManagement',\n",
       "     'Chat',\n",
       "     'KnowledgeGraph',\n",
       "     'IaC',\n",
       "     'UIdev',\n",
       "     'AssistantsAPI',\n",
       "     'ML',\n",
       "     'HitL',\n",
       "     'QueryTrans',\n",
       "     'Decision',\n",
       "     'GPTs',\n",
       "     'Experiments',\n",
       "     'JsonMode',\n",
       "     'OpenInterpreter',\n",
       "     'Flutter',\n",
       "     'Service',\n",
       "     'MySQL',\n",
       "     'ChatInteraction',\n",
       "     'Copilot',\n",
       "     'Cursor',\n",
       "     'Docker',\n",
       "     'MultiModal',\n",
       "     'MongoDB',\n",
       "     'ROS',\n",
       "     'Wearable',\n",
       "     'DataAnalysis',\n",
       "     'Google',\n",
       "     'Vision',\n",
       "     'Gemini',\n",
       "     'HCI',\n",
       "     'MQ3',\n",
       "     'XR',\n",
       "     'Unity',\n",
       "     'guidance',\n",
       "     'NLP',\n",
       "     'Philosophy',\n",
       "     'Work',\n",
       "     'DDD',\n",
       "     'Drawing',\n",
       "     'JavaScript',\n",
       "     'MoE',\n",
       "     'Career',\n",
       "     'LlamaIndex',\n",
       "     'GenerativeAI',\n",
       "     'Manifold',\n",
       "     'OCR',\n",
       "     'Bandit',\n",
       "     'PromptInjection',\n",
       "     'CodeInterpreter',\n",
       "     'Food',\n",
       "     'Whisper',\n",
       "     'Sports',\n",
       "     'Claude',\n",
       "     'CodeLLM',\n",
       "     'Bedrock',\n",
       "     'Search',\n",
       "     'LLMSecurity',\n",
       "     'ReactNative',\n",
       "     'UX',\n",
       "     'Dataset',\n",
       "     'Translate',\n",
       "     'WebSearch',\n",
       "     'GNN',\n",
       "     'EducationAI',\n",
       "     'Obsidian',\n",
       "     'MLOps',\n",
       "     'NoCode',\n",
       "     'PyTorch',\n",
       "     'IoT',\n",
       "     'RaspberryPi',\n",
       "     'VLM',\n",
       "     'GoogleMaps',\n",
       "     'DALL·E',\n",
       "     'Dify',\n",
       "     'React',\n",
       "     'GenerativeAgent',\n",
       "     'LangFuse'],\n",
       "    'type': 'array',\n",
       "    'items': {'type': 'string'}},\n",
       "   'summary': {'description': 'detailed summary in Japanese.',\n",
       "    'type': 'string'}},\n",
       "  'required': ['title', 'short_title', 'types', 'tags', 'summary']}}"
      ]
     },
     "execution_count": 3,
     "metadata": {},
     "output_type": "execute_result"
    }
   ],
   "source": [
    "class PageProperties(BaseModel):\n",
    "    \"\"\"Extract web page data\"\"\"\n",
    "    title: str = Field(..., description='page title (long ver.)')\n",
    "    short_title: str = Field(..., description='page title (short ver.)')\n",
    "    year: Optional[int] = Field(description='Posted year of the page')\n",
    "    month: Optional[int] = Field(description='Posted month of the page')\n",
    "    # date: Optional[datetime.date] = Field(description='Posted date of the page in format \"%Y/%m/%d\"')\n",
    "    types: list[str] = Field(..., description='page types in list.', enum=types)\n",
    "    tags: list[str] = Field(..., description='tags in list.', enum=tags)\n",
    "    summary: str = Field(..., description='detailed summary in Japanese.')\n",
    "    # code: Optional[str] = Field(description='link url to the Code. (Github, GitLab, ...)')\n",
    "    # pdf: Optional[str] = Field(description='link url to the PDF.')\n",
    "\n",
    "extract_func = convert_to_openai_function(PageProperties)\n",
    "extract_func"
   ]
  },
  {
   "cell_type": "code",
   "execution_count": 4,
   "metadata": {},
   "outputs": [],
   "source": [
    "from selenium import webdriver\n",
    "from selenium.webdriver.chrome.options import Options\n",
    "from selenium.webdriver.support.ui import WebDriverWait\n",
    "from selenium.webdriver.support import expected_conditions as EC\n",
    "from selenium.webdriver.common.by import By\n",
    "\n",
    "def get_tweet_content_and_links(tweet_url):\n",
    "    options = Options()\n",
    "    options.add_argument('--headless')\n",
    "    options.add_argument('--disable-gpu')\n",
    "    options.add_argument('--no-sandbox')\n",
    "\n",
    "    # ChromeDriverのパスを指定\n",
    "    driver = webdriver.Chrome(options=options)\n",
    "    \n",
    "    # URLにアクセス\n",
    "    driver.get(tweet_url)\n",
    "\n",
    "    # articleタグが読み込まれるまで待機（最大15秒）\n",
    "    WebDriverWait(driver, 15).until(EC.visibility_of_element_located((By.TAG_NAME, 'article')))\n",
    "\n",
    "    # ページのソースを取得して解析\n",
    "    page_source = driver.page_source\n",
    "    soup = BeautifulSoup(page_source, 'html.parser')\n",
    "    \n",
    "    # Tweet本文とリンクを取得\n",
    "    tweet_text = \"\"\n",
    "    tweet_links = []\n",
    "    tweet_container = soup.find(\"div\", {\"data-testid\": \"tweetText\"})\n",
    "    if tweet_container:\n",
    "        tweet_text = tweet_container.get_text()\n",
    "        links = tweet_container.find_all(\"a\")\n",
    "        for link in links:\n",
    "            tweet_links.append(link['href'])\n",
    "    \n",
    "    # Tweet投稿日時を取得\n",
    "    datetime_as = soup.findAll('a', attrs={'aria-label': True, 'role': 'link'})\n",
    "\n",
    "    # 日時の抽出\n",
    "    dt_jst = None\n",
    "    for datetime_a in datetime_as:\n",
    "        if datetime_a:\n",
    "            time_tag = datetime_a.find('time')\n",
    "            if time_tag:\n",
    "                time_tag_datetime = time_tag.get('datetime')\n",
    "                dt_utc = datetime.datetime.fromisoformat(time_tag_datetime.replace(\"Z\", \"+00:00\"))\n",
    "                dt_utc = dt_utc.replace(tzinfo=pytz.utc)\n",
    "                jst = pytz.timezone('Asia/Tokyo')\n",
    "                dt_jst = dt_utc.astimezone(jst)\n",
    "\n",
    "    driver.quit()\n",
    "    \n",
    "    return tweet_text, tweet_links, dt_jst"
   ]
  },
  {
   "cell_type": "code",
   "execution_count": 5,
   "metadata": {},
   "outputs": [],
   "source": [
    "def extract_urls(url):\n",
    "    headers = {\n",
    "        'User-Agent': \"Mozilla/5.0 (X11; Linux x86_64) AppleWebKit/537.36 (KHTML, like Gecko) Chrome/77.0.3865.90 Safari/537.36\"\n",
    "    }\n",
    "    response = requests.request(\"GET\", url, headers=headers)\n",
    "    data = BeautifulSoup(response.text, 'html.parser')\n",
    "    urls = data.find_all('a', href=True)\n",
    "    return urls\n",
    "\n",
    "def extract_text(url):\n",
    "    response = requests.get(url)\n",
    "    with open('.temp.html','w') as f:\n",
    "        f.write(response.text)\n",
    "    loader = UnstructuredHTMLLoader(\".temp.html\")\n",
    "    docs = loader.load()\n",
    "    content = docs[0].page_content.replace('\\n\\n', '\\n')\n",
    "    return content"
   ]
  },
  {
   "cell_type": "code",
   "execution_count": 6,
   "metadata": {},
   "outputs": [],
   "source": [
    "def load_web_text(url: str):\n",
    "    if url.startswith('https://x.com/'):\n",
    "        content, links, dt_jst = get_tweet_content_and_links(url)\n",
    "        if dt_jst:\n",
    "            content = f\"{content}\\ndatetime: {str(dt_jst)}\"\n",
    "    else:\n",
    "        content = extract_text(url)\n",
    "        # links = extract_urls(url)\n",
    "    return content\n",
    "\n",
    "def create_page(data):\n",
    "    url = data['url']\n",
    "    x = data['page']\n",
    "    types = [{'name': typ} for typ in x['types']] if isinstance(x['types'], list) else [{'name': x['types']}]\n",
    "    tags = [{'name': tag} for tag in x['tags']] if isinstance(x['tags'], list) else [{'name': x['tags']}]\n",
    "    page = {\n",
    "        \"parent\": { \"database_id\": INPUT},\n",
    "        \"properties\": {\n",
    "            'Status': {'status': {'name': 'Not started'}},\n",
    "            'Import': {'checkbox': True},\n",
    "            'URL': {'url': url},\n",
    "            'Issue': {'title': [{'text': {'content': x['short_title']}}]},\n",
    "            'Type': {\"multi_select\": types},\n",
    "            'Tags': {\"multi_select\": tags},\n",
    "            'Abstract': {'rich_text': [{'text': {'content': x['summary']}}]},\n",
    "            'Title': {'rich_text': [{'text': {'content': x['title']}}]},\n",
    "        }\n",
    "    }\n",
    "    if 'year' in x and x['year']:\n",
    "        year = []\n",
    "        if x['year'] >= 2023:\n",
    "            if 'month' in x:\n",
    "                year.append({'name': f\"{str(x['year']).zfill(4)}.{str(x['month']).zfill(2)}\"}),\n",
    "                year.append({'name': str(x['year'])})\n",
    "        else:\n",
    "            year.append({'name': str(x['year'])})\n",
    "        if year:\n",
    "            page['properties']['Year'] = {\"multi_select\": year}\n",
    "    return page\n",
    "\n",
    "model = ChatOpenAI(model='gpt-3.5-turbo')\n",
    "model_with_func = model.bind_functions([extract_func])\n",
    "\n",
    "system_images_extract = '''\\\n",
    "You are a data extractor from a web page.\n",
    "'''\n",
    "\n",
    "template = '''\\\n",
    "## SourceURL\n",
    "{source_url}\n",
    "\n",
    "## WebText\n",
    "{web_text}\n",
    "'''\n",
    "\n",
    "chat_template = ChatPromptTemplate.from_messages([\n",
    "    SystemMessage(content=system_images_extract),\n",
    "    HumanMessagePromptTemplate.from_template(template),\n",
    "])\n",
    "\n",
    "chain = {\n",
    "    'source_url': RunnablePassthrough(),\n",
    "    'web_text': RunnablePassthrough() | RunnableLambda(load_web_text),\n",
    "    'urls': RunnablePassthrough() | RunnableLambda(extract_urls),\n",
    "} | RunnablePassthrough() \\\n",
    "| {\n",
    "    'url': itemgetter('source_url'),\n",
    "    'page': RunnablePassthrough() | chat_template | model_with_func | JsonOutputFunctionsParser()\n",
    "}\\\n",
    "| RunnableLambda(create_page)"
   ]
  },
  {
   "cell_type": "code",
   "execution_count": 7,
   "metadata": {},
   "outputs": [
    {
     "name": "stderr",
     "output_type": "stream",
     "text": [
      "  0%|          | 0/29 [00:00<?, ?it/s]"
     ]
    },
    {
     "name": "stdout",
     "output_type": "stream",
     "text": [
      "datetime attribute: 2024-05-29 19:00:02+09:00\n"
     ]
    },
    {
     "name": "stderr",
     "output_type": "stream",
     "text": [
      "  3%|▎         | 1/29 [00:07<03:38,  7.79s/it]"
     ]
    },
    {
     "name": "stdout",
     "output_type": "stream",
     "text": [
      "datetime attribute: 2024-05-29 22:08:41+09:00\n"
     ]
    },
    {
     "name": "stderr",
     "output_type": "stream",
     "text": [
      "  7%|▋         | 2/29 [00:18<04:15,  9.47s/it]"
     ]
    },
    {
     "name": "stdout",
     "output_type": "stream",
     "text": [
      "datetime attribute: 2024-05-29 21:53:17+09:00\n"
     ]
    },
    {
     "name": "stderr",
     "output_type": "stream",
     "text": [
      " 10%|█         | 3/29 [00:31<04:43, 10.91s/it]"
     ]
    },
    {
     "name": "stdout",
     "output_type": "stream",
     "text": [
      "datetime attribute: 2024-05-29 09:25:47+09:00\n"
     ]
    },
    {
     "name": "stderr",
     "output_type": "stream",
     "text": [
      " 17%|█▋        | 5/29 [00:56<05:00, 12.50s/it]"
     ]
    },
    {
     "name": "stdout",
     "output_type": "stream",
     "text": [
      "Skipping: body failed validation: body.children[28].code.rich_text[0].text.content.length should be ≤ `2000`, instead was `2048`.\n",
      "datetime attribute: 2024-05-28 18:22:27+09:00\n"
     ]
    },
    {
     "name": "stderr",
     "output_type": "stream",
     "text": [
      " 24%|██▍       | 7/29 [01:11<03:37,  9.87s/it]"
     ]
    },
    {
     "name": "stdout",
     "output_type": "stream",
     "text": [
      "datetime attribute: 2024-05-27 15:11:25+09:00\n"
     ]
    },
    {
     "name": "stderr",
     "output_type": "stream",
     "text": [
      " 28%|██▊       | 8/29 [01:21<03:26,  9.83s/it]"
     ]
    },
    {
     "name": "stdout",
     "output_type": "stream",
     "text": [
      "datetime attribute: 2024-05-27 07:57:00+09:00\n"
     ]
    },
    {
     "name": "stderr",
     "output_type": "stream",
     "text": [
      " 31%|███       | 9/29 [01:28<03:02,  9.13s/it]"
     ]
    },
    {
     "name": "stdout",
     "output_type": "stream",
     "text": [
      "datetime attribute: 2024-05-27 14:36:39+09:00\n"
     ]
    },
    {
     "name": "stderr",
     "output_type": "stream",
     "text": [
      " 34%|███▍      | 10/29 [01:39<03:01,  9.56s/it]"
     ]
    },
    {
     "name": "stdout",
     "output_type": "stream",
     "text": [
      "datetime attribute: 2024-05-27 07:51:15+09:00\n"
     ]
    },
    {
     "name": "stderr",
     "output_type": "stream",
     "text": [
      " 41%|████▏     | 12/29 [01:53<02:19,  8.22s/it]"
     ]
    },
    {
     "name": "stdout",
     "output_type": "stream",
     "text": [
      "Skipping: body failed validation: body.children[0].image.external should be defined, instead was `undefined`.\n"
     ]
    },
    {
     "name": "stderr",
     "output_type": "stream",
     "text": [
      " 45%|████▍     | 13/29 [02:20<03:40, 13.76s/it]"
     ]
    },
    {
     "name": "stdout",
     "output_type": "stream",
     "text": [
      "Skipping: body failed validation: body.children[24].image.external.url.length should be ≤ `2000`, instead was `10738`.\n"
     ]
    },
    {
     "name": "stderr",
     "output_type": "stream",
     "text": [
      " 48%|████▊     | 14/29 [02:24<02:43, 10.88s/it]"
     ]
    },
    {
     "name": "stdout",
     "output_type": "stream",
     "text": [
      "Skipping: body failed validation: body.children[0].image.external should be defined, instead was `undefined`.\n"
     ]
    },
    {
     "name": "stderr",
     "output_type": "stream",
     "text": [
      " 52%|█████▏    | 15/29 [02:40<02:53, 12.36s/it]"
     ]
    },
    {
     "name": "stdout",
     "output_type": "stream",
     "text": [
      "Skipping: Message: \n",
      "Stacktrace:\n",
      "#0 0x56053e05b5e3 <unknown>\n",
      "#1 0x56053dd1e0b7 <unknown>\n",
      "#2 0x56053dd6bf53 <unknown>\n",
      "#3 0x56053dd6c051 <unknown>\n",
      "#4 0x56053ddb19c4 <unknown>\n",
      "#5 0x56053dd92f1d <unknown>\n",
      "#6 0x56053ddaeb3d <unknown>\n",
      "#7 0x56053dd92cc3 <unknown>\n",
      "#8 0x56053dd5e0e4 <unknown>\n",
      "#9 0x56053dd5f0ae <unknown>\n",
      "#10 0x56053e021ce1 <unknown>\n",
      "#11 0x56053e025b7e <unknown>\n",
      "#12 0x56053e00f4b5 <unknown>\n",
      "#13 0x56053e0267d6 <unknown>\n",
      "#14 0x56053dff2dbf <unknown>\n",
      "#15 0x56053e049748 <unknown>\n",
      "#16 0x56053e049917 <unknown>\n",
      "#17 0x56053e05a773 <unknown>\n",
      "#18 0x7fd8e732f609 start_thread\n",
      "\n"
     ]
    },
    {
     "name": "stderr",
     "output_type": "stream",
     "text": [
      " 55%|█████▌    | 16/29 [02:50<02:30, 11.55s/it]"
     ]
    },
    {
     "name": "stdout",
     "output_type": "stream",
     "text": [
      "Skipping: body failed validation: body.children[0].image.external should be defined, instead was `undefined`.\n"
     ]
    },
    {
     "name": "stderr",
     "output_type": "stream",
     "text": [
      " 59%|█████▊    | 17/29 [02:57<02:04, 10.37s/it]"
     ]
    },
    {
     "name": "stdout",
     "output_type": "stream",
     "text": [
      "Skipping: body failed validation: body.children[0].image.external should be defined, instead was `undefined`.\n"
     ]
    },
    {
     "name": "stderr",
     "output_type": "stream",
     "text": [
      " 62%|██████▏   | 18/29 [03:05<01:44,  9.54s/it]"
     ]
    },
    {
     "name": "stdout",
     "output_type": "stream",
     "text": [
      "Skipping: Content creation Failed. Fix the following: \n",
      "Invalid image url.\n",
      "Invalid image url.\n",
      "Invalid image url.\n",
      "Invalid image url.\n",
      "Invalid image url.\n"
     ]
    },
    {
     "name": "stderr",
     "output_type": "stream",
     "text": [
      " 66%|██████▌   | 19/29 [03:11<01:25,  8.53s/it]"
     ]
    },
    {
     "name": "stdout",
     "output_type": "stream",
     "text": [
      "Skipping: Content creation Failed. Fix the following: \n",
      "Invalid image url.\n",
      "Invalid image url.\n"
     ]
    },
    {
     "name": "stderr",
     "output_type": "stream",
     "text": [
      " 69%|██████▉   | 20/29 [03:15<01:03,  7.07s/it]"
     ]
    },
    {
     "name": "stdout",
     "output_type": "stream",
     "text": [
      "Skipping: body failed validation: body.children[0].image.external should be defined, instead was `undefined`.\n"
     ]
    },
    {
     "name": "stderr",
     "output_type": "stream",
     "text": [
      " 72%|███████▏  | 21/29 [03:23<01:00,  7.55s/it]"
     ]
    },
    {
     "name": "stdout",
     "output_type": "stream",
     "text": [
      "Skipping: Could not parse function call: 'function_call'\n"
     ]
    },
    {
     "name": "stderr",
     "output_type": "stream",
     "text": [
      " 76%|███████▌  | 22/29 [03:30<00:50,  7.22s/it]"
     ]
    },
    {
     "name": "stdout",
     "output_type": "stream",
     "text": [
      "Skipping: body failed validation: body.children[0].image.external should be defined, instead was `undefined`.\n"
     ]
    },
    {
     "name": "stderr",
     "output_type": "stream",
     "text": [
      " 79%|███████▉  | 23/29 [04:06<01:35, 15.99s/it]"
     ]
    },
    {
     "name": "stdout",
     "output_type": "stream",
     "text": [
      "Skipping: body failed validation: body.children[20].image.external should be defined, instead was `undefined`.\n"
     ]
    },
    {
     "name": "stderr",
     "output_type": "stream",
     "text": [
      " 83%|████████▎ | 24/29 [04:19<01:15, 15.10s/it]"
     ]
    },
    {
     "name": "stdout",
     "output_type": "stream",
     "text": [
      "Skipping: Error code: 400 - {'error': {'message': \"This model's maximum context length is 16385 tokens. However, your messages resulted in 23985 tokens (23173 in the messages, 812 in the functions). Please reduce the length of the messages or functions.\", 'type': 'invalid_request_error', 'param': 'messages', 'code': 'context_length_exceeded'}}\n"
     ]
    },
    {
     "name": "stderr",
     "output_type": "stream",
     "text": [
      " 86%|████████▌ | 25/29 [04:33<00:58, 14.56s/it]"
     ]
    },
    {
     "name": "stdout",
     "output_type": "stream",
     "text": [
      "Skipping: body failed validation: body.children[0].image.external should be defined, instead was `undefined`.\n"
     ]
    },
    {
     "name": "stderr",
     "output_type": "stream",
     "text": [
      "Failed to batch ingest runs: LangSmithConnectionError('Connection error caused failure to POST https://api.smith.langchain.com/runs/batch  in LangSmith API. Please confirm your internet connection.. SSLError(MaxRetryError(\"HTTPSConnectionPool(host=\\'api.smith.langchain.com\\', port=443): Max retries exceeded with url: /runs/batch (Caused by SSLError(SSLEOFError(8, \\'EOF occurred in violation of protocol (_ssl.c:2396)\\')))\"))')\n",
      "Failed to batch ingest runs: LangSmithConnectionError('Connection error caused failure to POST https://api.smith.langchain.com/runs/batch  in LangSmith API. Please confirm your internet connection.. SSLError(MaxRetryError(\"HTTPSConnectionPool(host=\\'api.smith.langchain.com\\', port=443): Max retries exceeded with url: /runs/batch (Caused by SSLError(SSLEOFError(8, \\'EOF occurred in violation of protocol (_ssl.c:2396)\\')))\"))')\n",
      " 90%|████████▉ | 26/29 [04:39<00:36, 12.06s/it]"
     ]
    },
    {
     "name": "stdout",
     "output_type": "stream",
     "text": [
      "Skipping: body failed validation: body.children[35].image.external should be defined, instead was `undefined`.\n"
     ]
    },
    {
     "name": "stderr",
     "output_type": "stream",
     "text": [
      "Failed to batch ingest runs: LangSmithConnectionError('Connection error caused failure to POST https://api.smith.langchain.com/runs/batch  in LangSmith API. Please confirm your internet connection.. SSLError(MaxRetryError(\"HTTPSConnectionPool(host=\\'api.smith.langchain.com\\', port=443): Max retries exceeded with url: /runs/batch (Caused by SSLError(SSLEOFError(8, \\'EOF occurred in violation of protocol (_ssl.c:2396)\\')))\"))')\n",
      " 93%|█████████▎| 27/29 [04:44<00:20, 10.15s/it]"
     ]
    },
    {
     "name": "stdout",
     "output_type": "stream",
     "text": [
      "Skipping: body failed validation: body.children[0].image.external should be defined, instead was `undefined`.\n"
     ]
    },
    {
     "name": "stderr",
     "output_type": "stream",
     "text": [
      " 97%|█████████▋| 28/29 [04:46<00:07,  7.50s/it]"
     ]
    },
    {
     "name": "stdout",
     "output_type": "stream",
     "text": [
      "Skipping: Error code: 400 - {'error': {'message': \"This model's maximum context length is 16385 tokens. However, your messages resulted in 29388 tokens (28576 in the messages, 812 in the functions). Please reduce the length of the messages or functions.\", 'type': 'invalid_request_error', 'param': 'messages', 'code': 'context_length_exceeded'}}\n"
     ]
    },
    {
     "name": "stderr",
     "output_type": "stream",
     "text": [
      "100%|██████████| 29/29 [04:47<00:00,  9.92s/it]"
     ]
    },
    {
     "name": "stdout",
     "output_type": "stream",
     "text": [
      "Skipping: Error code: 400 - {'error': {'message': \"This model's maximum context length is 16385 tokens. However, your messages resulted in 41117 tokens (40305 in the messages, 812 in the functions). Please reduce the length of the messages or functions.\", 'type': 'invalid_request_error', 'param': 'messages', 'code': 'context_length_exceeded'}}\n"
     ]
    },
    {
     "name": "stderr",
     "output_type": "stream",
     "text": [
      "\n"
     ]
    },
    {
     "name": "stderr",
     "output_type": "stream",
     "text": [
      "Failed to batch ingest runs: LangSmithConnectionError('Connection error caused failure to POST https://api.smith.langchain.com/runs/batch  in LangSmith API. Please confirm your internet connection.. SSLError(MaxRetryError(\"HTTPSConnectionPool(host=\\'api.smith.langchain.com\\', port=443): Max retries exceeded with url: /runs/batch (Caused by SSLError(SSLEOFError(8, \\'EOF occurred in violation of protocol (_ssl.c:2396)\\')))\"))')\n",
      "Failed to batch ingest runs: LangSmithConnectionError('Connection error caused failure to POST https://api.smith.langchain.com/runs/batch  in LangSmith API. Please confirm your internet connection.. SSLError(MaxRetryError(\"HTTPSConnectionPool(host=\\'api.smith.langchain.com\\', port=443): Max retries exceeded with url: /runs/batch (Caused by SSLError(SSLEOFError(8, \\'EOF occurred in violation of protocol (_ssl.c:2396)\\')))\"))')\n",
      "Failed to batch ingest runs: LangSmithConnectionError('Connection error caused failure to POST https://api.smith.langchain.com/runs/batch  in LangSmith API. Please confirm your internet connection.. SSLError(MaxRetryError(\"HTTPSConnectionPool(host=\\'api.smith.langchain.com\\', port=443): Max retries exceeded with url: /runs/batch (Caused by SSLError(SSLEOFError(8, \\'EOF occurred in violation of protocol (_ssl.c:2396)\\')))\"))')\n",
      "Failed to batch ingest runs: LangSmithConnectionError('Connection error caused failure to POST https://api.smith.langchain.com/runs/batch  in LangSmith API. Please confirm your internet connection.. SSLError(MaxRetryError(\"HTTPSConnectionPool(host=\\'api.smith.langchain.com\\', port=443): Max retries exceeded with url: /runs/batch (Caused by SSLError(SSLEOFError(8, \\'EOF occurred in violation of protocol (_ssl.c:2396)\\')))\"))')\n",
      "Failed to batch ingest runs: LangSmithConnectionError('Connection error caused failure to POST https://api.smith.langchain.com/runs/batch  in LangSmith API. Please confirm your internet connection.. SSLError(MaxRetryError(\"HTTPSConnectionPool(host=\\'api.smith.langchain.com\\', port=443): Max retries exceeded with url: /runs/batch (Caused by SSLError(SSLEOFError(8, \\'EOF occurred in violation of protocol (_ssl.c:2396)\\')))\"))')\n",
      "Failed to batch ingest runs: LangSmithConnectionError('Connection error caused failure to POST https://api.smith.langchain.com/runs/batch  in LangSmith API. Please confirm your internet connection.. SSLError(MaxRetryError(\"HTTPSConnectionPool(host=\\'api.smith.langchain.com\\', port=443): Max retries exceeded with url: /runs/batch (Caused by SSLError(SSLEOFError(8, \\'EOF occurred in violation of protocol (_ssl.c:2396)\\')))\"))')\n",
      "Failed to batch ingest runs: LangSmithConnectionError('Connection error caused failure to POST https://api.smith.langchain.com/runs/batch  in LangSmith API. Please confirm your internet connection.. SSLError(MaxRetryError(\"HTTPSConnectionPool(host=\\'api.smith.langchain.com\\', port=443): Max retries exceeded with url: /runs/batch (Caused by SSLError(SSLEOFError(8, \\'EOF occurred in violation of protocol (_ssl.c:2396)\\')))\"))')\n",
      "Failed to batch ingest runs: LangSmithConnectionError('Connection error caused failure to POST https://api.smith.langchain.com/runs/batch  in LangSmith API. Please confirm your internet connection.. SSLError(MaxRetryError(\"HTTPSConnectionPool(host=\\'api.smith.langchain.com\\', port=443): Max retries exceeded with url: /runs/batch (Caused by SSLError(SSLEOFError(8, \\'EOF occurred in violation of protocol (_ssl.c:2396)\\')))\"))')\n"
     ]
    }
   ],
   "source": [
    "from tqdm import tqdm\n",
    "items = notion.databases.query(database_id=CLIP, filter={\n",
    "    \"property\": \"Check\",\"checkbox\":{\"equals\": False}\n",
    "})\n",
    "for item in tqdm(items['results']):\n",
    "    try:\n",
    "        url = item['properties']['URL']['url']\n",
    "        page = chain.invoke(url)\n",
    "        blocks = notion.blocks.children.list(block_id=item['id'])\n",
    "        page['children'] = blocks['results']\n",
    "        notion.pages.create(**page)\n",
    "        notion.blocks.delete(block_id=item['id'])\n",
    "    except Exception as e:\n",
    "        print('Skipping:', e)"
   ]
  }
 ],
 "metadata": {
  "kernelspec": {
   "display_name": "Python 3",
   "language": "python",
   "name": "python3"
  },
  "language_info": {
   "codemirror_mode": {
    "name": "ipython",
    "version": 3
   },
   "file_extension": ".py",
   "mimetype": "text/x-python",
   "name": "python",
   "nbconvert_exporter": "python",
   "pygments_lexer": "ipython3",
   "version": "3.10.5"
  }
 },
 "nbformat": 4,
 "nbformat_minor": 2
}
