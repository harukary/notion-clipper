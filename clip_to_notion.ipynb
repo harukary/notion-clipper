{
 "cells": [
  {
   "cell_type": "code",
   "execution_count": 9,
   "metadata": {},
   "outputs": [],
   "source": [
    "from dotenv import load_dotenv, find_dotenv; load_dotenv(find_dotenv())\n",
    "import os, notion_client, requests, datetime\n",
    "from bs4 import BeautifulSoup\n",
    "from typing import Optional\n",
    "from operator import itemgetter\n",
    "from langchain_core.pydantic_v1 import BaseModel, Field\n",
    "from langchain_community.document_loaders.html import UnstructuredHTMLLoader\n",
    "from langchain_core.messages import SystemMessage\n",
    "from langchain_core.prompts import ChatPromptTemplate, HumanMessagePromptTemplate\n",
    "from langchain_openai import ChatOpenAI\n",
    "from langchain.output_parsers.openai_functions import JsonOutputFunctionsParser\n",
    "from langchain_core.runnables import RunnableLambda, RunnablePassthrough\n",
    "from langchain_core.utils.function_calling import convert_to_openai_function, convert_to_openai_tool\n",
    "\n",
    "notion = notion_client.Client(auth=os.environ['NOTION_TOKEN'])\n",
    "CLIP = os.environ['CLIP_DATABASE_ID']\n",
    "INPUT = os.environ['INPUT_DATABASE_ID']"
   ]
  },
  {
   "cell_type": "code",
   "execution_count": 10,
   "metadata": {},
   "outputs": [],
   "source": [
    "input_database = notion.databases.retrieve(database_id=INPUT)\n",
    "tags = [o['name'] for o in input_database['properties']['Tags']['multi_select']['options']]\n",
    "types = [o['name'] for o in input_database['properties']['Type']['multi_select']['options']]"
   ]
  },
  {
   "cell_type": "code",
   "execution_count": 11,
   "metadata": {},
   "outputs": [
    {
     "data": {
      "text/plain": [
       "{'name': 'PageProperties',\n",
       " 'description': 'Extract web page data',\n",
       " 'parameters': {'type': 'object',\n",
       "  'properties': {'title': {'description': 'page title (long ver.)',\n",
       "    'type': 'string'},\n",
       "   'short_title': {'description': 'page title (short ver.)', 'type': 'string'},\n",
       "   'year': {'description': 'Posted year of the page', 'type': 'integer'},\n",
       "   'month': {'description': 'Posted month of the page', 'type': 'integer'},\n",
       "   'types': {'description': 'page types in list. You can create new.',\n",
       "    'enum': ['Tweet',\n",
       "     'Announce',\n",
       "     'Slides',\n",
       "     'Medium',\n",
       "     'Web',\n",
       "     'Qiita',\n",
       "     'Zenn',\n",
       "     'Notion',\n",
       "     'note',\n",
       "     'Book',\n",
       "     'Paper',\n",
       "     'GitHub',\n",
       "     'HuggingFace',\n",
       "     'Demo',\n",
       "     'KAKEN',\n",
       "     'Course',\n",
       "     'Tutorial',\n",
       "     'Resources',\n",
       "     'GPTs',\n",
       "     'Thought',\n",
       "     'Youtube',\n",
       "     'Webinar',\n",
       "     'Kaggle',\n",
       "     'Service',\n",
       "     'MemberOnly',\n",
       "     'Note',\n",
       "     'Blog'],\n",
       "    'type': 'array',\n",
       "    'items': {'type': 'string'}},\n",
       "   'tags': {'description': 'tags in list. You can create new in Camel case.',\n",
       "    'enum': ['LLM',\n",
       "     'LLMEval',\n",
       "     'LLMOps',\n",
       "     'Agent',\n",
       "     'ChatGPT',\n",
       "     'OpenAI',\n",
       "     'VoiceInteraction',\n",
       "     'Prompt',\n",
       "     'GA',\n",
       "     'Guardrails',\n",
       "     'LangChain',\n",
       "     'SoftDev',\n",
       "     'OpenLLM',\n",
       "     'AWS',\n",
       "     'Life',\n",
       "     'CustomInstructions',\n",
       "     'Survey',\n",
       "     'Azure',\n",
       "     'Embedding',\n",
       "     'Visualization',\n",
       "     'Conversation',\n",
       "     'Robotics',\n",
       "     'Container',\n",
       "     'FastAPI',\n",
       "     'Reseach',\n",
       "     'Python',\n",
       "     'Database',\n",
       "     'RAG',\n",
       "     'OpenSearch',\n",
       "     'SQL',\n",
       "     'GPT4V',\n",
       "     'StableDiffusion',\n",
       "     'Logging',\n",
       "     'DX',\n",
       "     'ECS',\n",
       "     'Geo',\n",
       "     'Infrastructure',\n",
       "     'Kaggle',\n",
       "     'LangSmith',\n",
       "     'PromptHub',\n",
       "     'PromptRefine',\n",
       "     'Notion',\n",
       "     'LLMTuning',\n",
       "     'Rec',\n",
       "     'PrivateDev',\n",
       "     'English',\n",
       "     'SelfManagement',\n",
       "     'Chat',\n",
       "     'KnowledgeGraph',\n",
       "     'IaC',\n",
       "     'UIdev',\n",
       "     'AssistantsAPI',\n",
       "     'ML',\n",
       "     'HitL',\n",
       "     'QueryTrans',\n",
       "     'Decision',\n",
       "     'GPTs',\n",
       "     'Experiments',\n",
       "     'JsonMode',\n",
       "     'OpenInterpreter',\n",
       "     'Flutter',\n",
       "     'Service',\n",
       "     'MySQL',\n",
       "     'ChatInteraction',\n",
       "     'Copilot',\n",
       "     'Cursor',\n",
       "     'Docker',\n",
       "     'MultiModal',\n",
       "     'MongoDB',\n",
       "     'ROS',\n",
       "     'Wearable',\n",
       "     'DataAnalysis',\n",
       "     'Google',\n",
       "     'Vision',\n",
       "     'Gemini',\n",
       "     'HCI',\n",
       "     'MQ3',\n",
       "     'XR',\n",
       "     'Unity',\n",
       "     'guidance',\n",
       "     'NLP',\n",
       "     'Philosophy',\n",
       "     'Work',\n",
       "     'DDD',\n",
       "     'Drawing',\n",
       "     'JavaScript',\n",
       "     'MoE',\n",
       "     'Career',\n",
       "     'LlamaIndex',\n",
       "     'GenerativeAI',\n",
       "     'Manifold',\n",
       "     'OCR',\n",
       "     'Bandit',\n",
       "     'CausalInference',\n",
       "     'PromptInjection',\n",
       "     'CodeInterpreter',\n",
       "     'Food',\n",
       "     'Whisper',\n",
       "     'Sports',\n",
       "     'Claude',\n",
       "     'CodeLLM',\n",
       "     'Bedrock',\n",
       "     'Search',\n",
       "     'LLMSecurity',\n",
       "     'ReactNative',\n",
       "     'UX',\n",
       "     'Dataset',\n",
       "     'Translate',\n",
       "     'WebSearch',\n",
       "     'GNN',\n",
       "     'API',\n",
       "     'Twitter',\n",
       "     'AI',\n",
       "     'Innovation',\n",
       "     'Zenn',\n",
       "     'LLMAgent',\n",
       "     'Research',\n",
       "     'Demo',\n",
       "     'EducationAI',\n",
       "     'Note',\n",
       "     'Management',\n",
       "     'Team',\n",
       "     'Priority',\n",
       "     'Discipline',\n",
       "     'Obsidian',\n",
       "     'Plugin',\n",
       "     'MVP',\n",
       "     'Development',\n",
       "     'GPT4',\n",
       "     'Contest',\n",
       "     'Console',\n",
       "     'MLOps',\n",
       "     'Github',\n",
       "     'NoCode',\n",
       "     'GitHub',\n",
       "     'DocumentAI',\n",
       "     'JSON',\n",
       "     'PyTorch',\n",
       "     'IoT',\n",
       "     'RaspberryPi',\n",
       "     'RemoteAccess',\n",
       "     'InformationGathering',\n",
       "     'HuggingFace',\n",
       "     'DataProcessing',\n",
       "     'Japanese',\n",
       "     'LayeredInference',\n",
       "     'GPU',\n",
       "     'AirLLM',\n",
       "     'Transformer',\n",
       "     'Developers',\n",
       "     'Data Scientist',\n",
       "     'Translation',\n",
       "     'Pinterest',\n",
       "     'Multi-Task Learning',\n",
       "     'DistilBERT',\n",
       "     'Real-time Inference',\n",
       "     'ProductManager',\n",
       "     'Linters',\n",
       "     'CodeFormatting',\n",
       "     'Qiita',\n",
       "     'GraphML',\n",
       "     'Colab',\n",
       "     'Thought',\n",
       "     'Microsoft',\n",
       "     'Git',\n",
       "     'AutoDev',\n",
       "     'Model',\n",
       "     'VLM',\n",
       "     'YouTube',\n",
       "     'GoPro',\n",
       "     'Trend',\n",
       "     'タイムボクシング',\n",
       "     'タスク管理',\n",
       "     'FakeNews',\n",
       "     'LLMモデル',\n",
       "     'Organization',\n",
       "     'QR',\n",
       "     'セルフレンジ',\n",
       "     'コンビニ',\n",
       "     'Exciting',\n",
       "     'Discovery',\n",
       "     'SuccessStory',\n",
       "     'Business',\n",
       "     'Entrepreneurship',\n",
       "     'Book',\n",
       "     'Web',\n",
       "     'Health',\n",
       "     'Science',\n",
       "     'Longevity',\n",
       "     'Markdown',\n",
       "     'GraphQL',\n",
       "     'Beginner'],\n",
       "    'type': 'array',\n",
       "    'items': {'type': 'string'}},\n",
       "   'summary': {'description': 'page content in Japanese.', 'type': 'string'}},\n",
       "  'required': ['title', 'short_title', 'types', 'tags', 'summary']}}"
      ]
     },
     "execution_count": 11,
     "metadata": {},
     "output_type": "execute_result"
    }
   ],
   "source": [
    "class PageProperties(BaseModel):\n",
    "    \"\"\"Extract web page data\"\"\"\n",
    "    title: str = Field(..., description='page title (long ver.)')\n",
    "    short_title: str = Field(..., description='page title (short ver.)')\n",
    "    year: Optional[int] = Field(description='Posted year of the page')\n",
    "    month: Optional[int] = Field(description='Posted month of the page')\n",
    "    # date: Optional[datetime.date] = Field(description='Posted date of the page in format \"%Y/%m/%d\"')\n",
    "    types: list[str] = Field(..., description='page types in list. You can create new.', enum=types)\n",
    "    tags: list[str] = Field(..., description='tags in list. You can create new in Camel case.', enum=tags)\n",
    "    summary: str = Field(..., description='page content in Japanese.')\n",
    "    # code: Optional[str] = Field(description='link url to the Code. (Github, GitLab, ...)')\n",
    "    # pdf: Optional[str] = Field(description='link url to the PDF.')\n",
    "\n",
    "extract_func = convert_to_openai_function(PageProperties)\n",
    "extract_func"
   ]
  },
  {
   "cell_type": "code",
   "execution_count": 12,
   "metadata": {},
   "outputs": [],
   "source": [
    "from selenium import webdriver\n",
    "from selenium.webdriver.chrome.options import Options\n",
    "from selenium.webdriver.support.ui import WebDriverWait\n",
    "from selenium.webdriver.support import expected_conditions as EC\n",
    "from selenium.webdriver.common.by import By\n",
    "\n",
    "def get_tweet_content_and_links(tweet_url):\n",
    "    options = Options()\n",
    "    options.add_argument('--headless')\n",
    "    options.add_argument('--disable-gpu')\n",
    "    options.add_argument('--no-sandbox')\n",
    "\n",
    "    # ChromeDriverのパスを指定\n",
    "    driver = webdriver.Chrome(options=options)\n",
    "    \n",
    "    # URLにアクセス\n",
    "    driver.get(tweet_url)\n",
    "\n",
    "    # articleタグが読み込まれるまで待機（最大15秒）\n",
    "    WebDriverWait(driver, 15).until(EC.visibility_of_element_located((By.TAG_NAME, 'article')))\n",
    "\n",
    "    # ページのソースを取得して解析\n",
    "    page_source = driver.page_source\n",
    "    soup = BeautifulSoup(page_source, 'html.parser')\n",
    "    \n",
    "    # Tweet本文とリンクを取得\n",
    "    tweet_text = \"\"\n",
    "    tweet_links = []\n",
    "    tweet_container = soup.find(\"div\", {\"data-testid\": \"tweetText\"})\n",
    "    if tweet_container:\n",
    "        tweet_text = tweet_container.get_text()\n",
    "        links = tweet_container.find_all(\"a\")\n",
    "        for link in links:\n",
    "            tweet_links.append(link['href'])\n",
    "\n",
    "    driver.quit()\n",
    "    \n",
    "    return tweet_text, tweet_links"
   ]
  },
  {
   "cell_type": "code",
   "execution_count": 13,
   "metadata": {},
   "outputs": [],
   "source": [
    "def extract_urls(url):\n",
    "    headers = {\n",
    "        'User-Agent': \"Mozilla/5.0 (X11; Linux x86_64) AppleWebKit/537.36 (KHTML, like Gecko) Chrome/77.0.3865.90 Safari/537.36\"\n",
    "    }\n",
    "    response = requests.request(\"GET\", url, headers=headers)\n",
    "    data = BeautifulSoup(response.text, 'html.parser')\n",
    "    urls = data.find_all('a', href=True)\n",
    "    return urls\n",
    "\n",
    "def extract_text(url):\n",
    "    response = requests.get(url)\n",
    "    with open('.temp.html','w') as f:\n",
    "        f.write(response.text)\n",
    "    loader = UnstructuredHTMLLoader(\".temp.html\")\n",
    "    docs = loader.load()\n",
    "    content = docs[0].page_content.replace('\\n\\n', '\\n')\n",
    "    return content"
   ]
  },
  {
   "cell_type": "code",
   "execution_count": 14,
   "metadata": {},
   "outputs": [],
   "source": [
    "def load_web_text(url: str):\n",
    "    if url.startswith('https://x.com/'):\n",
    "        content, links = get_tweet_content_and_links(url)\n",
    "    else:\n",
    "        content = extract_text(url)\n",
    "        # links = extract_urls(url)\n",
    "    return content\n",
    "\n",
    "def create_page(data):\n",
    "    url = data['url']\n",
    "    x = data['page']\n",
    "    types = [{'name': typ} for typ in x['types']] if isinstance(x['types'], list) else [{'name': x['types']}]\n",
    "    tags = [{'name': tag} for tag in x['tags']] if isinstance(x['tags'], list) else [{'name': x['tags']}]\n",
    "    page = {\n",
    "        \"parent\": { \"database_id\": INPUT},\n",
    "        \"properties\": {\n",
    "            'Status': {'status': {'name': 'Not started'}},\n",
    "            'Import': {'checkbox': True},\n",
    "            'URL': {'url': url},\n",
    "            'Issue': {'title': [{'text': {'content': x['short_title']}}]},\n",
    "            'Type': {\"multi_select\": types},\n",
    "            'Tags': {\"multi_select\": tags},\n",
    "            'Abstract': {'rich_text': [{'text': {'content': x['summary']}}]},\n",
    "            'Title': {'rich_text': [{'text': {'content': x['title']}}]},\n",
    "        }\n",
    "    }\n",
    "    if 'year' in x and x['year']:\n",
    "        year = []\n",
    "        if x['year'] >= 2023:\n",
    "            if 'month' in x:\n",
    "                year.append({'name': f\"{str(x['year']).zfill(4)}.{str(x['month']).zfill(2)}\"}),\n",
    "                year.append({'name': str(x['year'])})\n",
    "        else:\n",
    "            year.append({'name': str(x['year'])})\n",
    "        if year:\n",
    "            page['properties']['Year'] = {\"multi_select\": year}\n",
    "    return page\n",
    "\n",
    "model = ChatOpenAI(model='gpt-3.5-turbo')\n",
    "model_with_func = model.bind_functions([extract_func])\n",
    "\n",
    "system_images_extract = '''\\\n",
    "You are a data extractor from a web page.\n",
    "'''\n",
    "\n",
    "template = '''\\\n",
    "## SourceURL\n",
    "{source_url}\n",
    "\n",
    "## WebText\n",
    "{web_text}\n",
    "'''\n",
    "\n",
    "chat_template = ChatPromptTemplate.from_messages([\n",
    "    SystemMessage(content=system_images_extract),\n",
    "    HumanMessagePromptTemplate.from_template(template),\n",
    "])\n",
    "\n",
    "chain = {\n",
    "    'source_url': RunnablePassthrough(),\n",
    "    'web_text': RunnablePassthrough() | RunnableLambda(load_web_text),\n",
    "    'urls': RunnablePassthrough() | RunnableLambda(extract_urls),\n",
    "} | RunnablePassthrough() \\\n",
    "| {\n",
    "    'url': itemgetter('source_url'),\n",
    "    'page': RunnablePassthrough() | chat_template | model_with_func | JsonOutputFunctionsParser()\n",
    "}\\\n",
    "| RunnableLambda(create_page)"
   ]
  },
  {
   "cell_type": "code",
   "execution_count": 15,
   "metadata": {},
   "outputs": [
    {
     "name": "stderr",
     "output_type": "stream",
     "text": [
      "  1%|▏         | 1/69 [00:06<07:41,  6.79s/it]"
     ]
    },
    {
     "name": "stdout",
     "output_type": "stream",
     "text": [
      "body failed validation: body.children[0].image.external should be defined, instead was `undefined`.\n"
     ]
    },
    {
     "name": "stderr",
     "output_type": "stream",
     "text": [
      "  3%|▎         | 2/69 [00:30<18:35, 16.64s/it]"
     ]
    },
    {
     "name": "stdout",
     "output_type": "stream",
     "text": [
      "body failed validation: body.children[24].image.external.url.length should be ≤ `2000`, instead was `10738`.\n"
     ]
    },
    {
     "name": "stderr",
     "output_type": "stream",
     "text": [
      "  4%|▍         | 3/69 [00:33<11:23, 10.36s/it]"
     ]
    },
    {
     "name": "stdout",
     "output_type": "stream",
     "text": [
      "'>=' not supported between instances of 'NoneType' and 'int'\n"
     ]
    },
    {
     "name": "stderr",
     "output_type": "stream",
     "text": [
      "  6%|▌         | 4/69 [00:40<09:42,  8.97s/it]"
     ]
    },
    {
     "name": "stdout",
     "output_type": "stream",
     "text": [
      "'>=' not supported between instances of 'NoneType' and 'int'\n"
     ]
    },
    {
     "name": "stderr",
     "output_type": "stream",
     "text": [
      "  7%|▋         | 5/69 [00:56<12:25, 11.64s/it]"
     ]
    },
    {
     "name": "stdout",
     "output_type": "stream",
     "text": [
      "Message: \n",
      "Stacktrace:\n",
      "#0 0x5575ba9bb5e3 <unknown>\n",
      "#1 0x5575ba67e0b7 <unknown>\n",
      "#2 0x5575ba6cbf53 <unknown>\n",
      "#3 0x5575ba6cc051 <unknown>\n",
      "#4 0x5575ba7119c4 <unknown>\n",
      "#5 0x5575ba6f2f1d <unknown>\n",
      "#6 0x5575ba70eb3d <unknown>\n",
      "#7 0x5575ba6f2cc3 <unknown>\n",
      "#8 0x5575ba6be0e4 <unknown>\n",
      "#9 0x5575ba6bf0ae <unknown>\n",
      "#10 0x5575ba981ce1 <unknown>\n",
      "#11 0x5575ba985b7e <unknown>\n",
      "#12 0x5575ba96f4b5 <unknown>\n",
      "#13 0x5575ba9867d6 <unknown>\n",
      "#14 0x5575ba952dbf <unknown>\n",
      "#15 0x5575ba9a9748 <unknown>\n",
      "#16 0x5575ba9a9917 <unknown>\n",
      "#17 0x5575ba9ba773 <unknown>\n",
      "#18 0x7ff3bf3bd609 start_thread\n",
      "\n"
     ]
    },
    {
     "name": "stderr",
     "output_type": "stream",
     "text": [
      "  9%|▊         | 6/69 [01:05<11:23, 10.84s/it]"
     ]
    },
    {
     "name": "stdout",
     "output_type": "stream",
     "text": [
      "body failed validation: body.children[0].image.external should be defined, instead was `undefined`.\n"
     ]
    },
    {
     "name": "stderr",
     "output_type": "stream",
     "text": [
      " 10%|█         | 7/69 [01:10<09:08,  8.84s/it]"
     ]
    },
    {
     "name": "stdout",
     "output_type": "stream",
     "text": [
      "body failed validation: body.children[0].image.external should be defined, instead was `undefined`.\n"
     ]
    },
    {
     "name": "stderr",
     "output_type": "stream",
     "text": [
      " 12%|█▏        | 8/69 [01:17<08:16,  8.13s/it]"
     ]
    },
    {
     "name": "stdout",
     "output_type": "stream",
     "text": [
      "Content creation Failed. Fix the following: \n",
      "Invalid image url.\n",
      "Invalid image url.\n",
      "Invalid image url.\n",
      "Invalid image url.\n",
      "Invalid image url.\n"
     ]
    },
    {
     "name": "stderr",
     "output_type": "stream",
     "text": [
      " 14%|█▍        | 10/69 [01:35<08:28,  8.62s/it]"
     ]
    },
    {
     "name": "stdout",
     "output_type": "stream",
     "text": [
      "Content creation Failed. Fix the following: \n",
      "Invalid image url.\n",
      "Invalid image url.\n"
     ]
    },
    {
     "name": "stderr",
     "output_type": "stream",
     "text": [
      " 46%|████▋     | 32/69 [05:04<04:56,  8.01s/it]"
     ]
    },
    {
     "name": "stdout",
     "output_type": "stream",
     "text": [
      "body failed validation: body.children[0].image.external should be defined, instead was `undefined`.\n"
     ]
    },
    {
     "name": "stderr",
     "output_type": "stream",
     "text": [
      " 54%|█████▎    | 37/69 [05:37<03:38,  6.84s/it]"
     ]
    },
    {
     "name": "stdout",
     "output_type": "stream",
     "text": [
      "body failed validation: body.children[0].image.external should be defined, instead was `undefined`.\n"
     ]
    },
    {
     "name": "stderr",
     "output_type": "stream",
     "text": [
      " 64%|██████▍   | 44/69 [06:31<03:10,  7.64s/it]"
     ]
    },
    {
     "name": "stdout",
     "output_type": "stream",
     "text": [
      "body failed validation: body.children[0].image.external should be defined, instead was `undefined`.\n"
     ]
    },
    {
     "name": "stderr",
     "output_type": "stream",
     "text": [
      " 65%|██████▌   | 45/69 [06:43<03:32,  8.86s/it]"
     ]
    },
    {
     "name": "stdout",
     "output_type": "stream",
     "text": [
      "body failed validation: body.children[20].image.external should be defined, instead was `undefined`.\n"
     ]
    },
    {
     "name": "stderr",
     "output_type": "stream",
     "text": [
      " 67%|██████▋   | 46/69 [06:45<02:37,  6.85s/it]"
     ]
    },
    {
     "name": "stdout",
     "output_type": "stream",
     "text": [
      "Error code: 400 - {'error': {'message': \"This model's maximum context length is 16385 tokens. However, your messages resulted in 24343 tokens (23173 in the messages, 1170 in the functions). Please reduce the length of the messages or functions.\", 'type': 'invalid_request_error', 'param': 'messages', 'code': 'context_length_exceeded'}}\n"
     ]
    },
    {
     "name": "stderr",
     "output_type": "stream",
     "text": [
      " 68%|██████▊   | 47/69 [06:56<02:54,  7.94s/it]"
     ]
    },
    {
     "name": "stdout",
     "output_type": "stream",
     "text": [
      "body failed validation: body.children[0].image.external should be defined, instead was `undefined`.\n"
     ]
    },
    {
     "name": "stderr",
     "output_type": "stream",
     "text": [
      " 72%|███████▏  | 50/69 [07:39<03:55, 12.37s/it]"
     ]
    },
    {
     "name": "stdout",
     "output_type": "stream",
     "text": [
      "body failed validation: body.children[35].image.external should be defined, instead was `undefined`.\n"
     ]
    },
    {
     "name": "stderr",
     "output_type": "stream",
     "text": [
      " 80%|███████▉  | 55/69 [08:20<01:55,  8.26s/it]"
     ]
    },
    {
     "name": "stdout",
     "output_type": "stream",
     "text": [
      "body failed validation: body.children[0].image.external should be defined, instead was `undefined`.\n"
     ]
    },
    {
     "name": "stderr",
     "output_type": "stream",
     "text": [
      " 96%|█████████▌| 66/69 [09:47<00:19,  6.37s/it]"
     ]
    },
    {
     "name": "stdout",
     "output_type": "stream",
     "text": [
      "Error code: 400 - {'error': {'message': \"This model's maximum context length is 16385 tokens. However, your messages resulted in 29798 tokens (28628 in the messages, 1170 in the functions). Please reduce the length of the messages or functions.\", 'type': 'invalid_request_error', 'param': 'messages', 'code': 'context_length_exceeded'}}\n"
     ]
    },
    {
     "name": "stderr",
     "output_type": "stream",
     "text": [
      " 97%|█████████▋| 67/69 [09:50<00:10,  5.31s/it]"
     ]
    },
    {
     "name": "stdout",
     "output_type": "stream",
     "text": [
      "Error code: 400 - {'error': {'message': \"This model's maximum context length is 16385 tokens. However, your messages resulted in 41518 tokens (40348 in the messages, 1170 in the functions). Please reduce the length of the messages or functions.\", 'type': 'invalid_request_error', 'param': 'messages', 'code': 'context_length_exceeded'}}\n"
     ]
    },
    {
     "name": "stderr",
     "output_type": "stream",
     "text": [
      "100%|██████████| 69/69 [10:09<00:00,  8.84s/it]\n"
     ]
    }
   ],
   "source": [
    "from tqdm import tqdm\n",
    "items = notion.databases.query(database_id=CLIP, filter={\n",
    "    \"property\": \"Check\",\"checkbox\":{\"equals\": False}\n",
    "})\n",
    "for item in tqdm(items['results']):\n",
    "    try:\n",
    "        url = item['properties']['URL']['url']\n",
    "        page = chain.invoke(url)\n",
    "        blocks = notion.blocks.children.list(block_id=item['id'])\n",
    "        page['children'] = blocks['results']\n",
    "        notion.pages.create(**page)\n",
    "        notion.blocks.delete(block_id=item['id'])\n",
    "    except Exception as e:\n",
    "        print(e)"
   ]
  }
 ],
 "metadata": {
  "kernelspec": {
   "display_name": "Python 3",
   "language": "python",
   "name": "python3"
  },
  "language_info": {
   "codemirror_mode": {
    "name": "ipython",
    "version": 3
   },
   "file_extension": ".py",
   "mimetype": "text/x-python",
   "name": "python",
   "nbconvert_exporter": "python",
   "pygments_lexer": "ipython3",
   "version": "3.10.5"
  }
 },
 "nbformat": 4,
 "nbformat_minor": 2
}
